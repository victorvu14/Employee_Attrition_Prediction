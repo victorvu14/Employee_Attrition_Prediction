{
 "cells": [
  {
   "cell_type": "markdown",
   "metadata": {},
   "source": [
    "#                                   Feature Engineering Pipeline \n"
   ]
  },
  {
   "cell_type": "markdown",
   "metadata": {},
   "source": [
    "\n",
    "The objective of this Markdown is to provide a pipeline on the process of feature engineering to predict the variable \"left\"\n"
   ]
  },
  {
   "cell_type": "code",
   "execution_count": 29,
   "metadata": {},
   "outputs": [],
   "source": [
    "# Imports\n",
    "\n",
    "import numpy as np\n",
    "import pandas as pd\n",
    "import matplotlib.pyplot as plt\n",
    "import seaborn as sns\n",
    "import scipy.stats as ss\n",
    "import statsmodels.api as sm\n",
    "\n",
    "from sklearn.exceptions import ConvergenceWarning\n",
    "import warnings\n",
    "warnings.filterwarnings(action='ignore', category=ConvergenceWarning)\n",
    "\n",
    "from sklearn.feature_selection import RFE\n",
    "from sklearn.metrics import confusion_matrix, classification_report, mean_squared_error, r2_score, accuracy_score,roc_auc_score\n",
    "from sklearn.linear_model import LogisticRegression\n",
    "from sklearn import preprocessing\n",
    "from sklearn import datasets\n",
    "from sklearn.model_selection import train_test_split, KFold, cross_validate, cross_val_score, cross_val_predict, ShuffleSplit\n",
    "from sklearn.pipeline import make_pipeline\n",
    "from sklearn.preprocessing import LabelBinarizer, RobustScaler, scale, PolynomialFeatures, StandardScaler\n",
    "\n",
    "from scipy.stats import skew, boxcox_normmax\n",
    "from scipy.special import boxcox1p\n",
    "\n",
    "warnings.filterwarnings('ignore')\n",
    "warnings.simplefilter(action='ignore', category=FutureWarning)\n",
    "warnings.simplefilter(action='ignore', category=DeprecationWarning)\n",
    "warnings.simplefilter('ignore')"
   ]
  },
  {
   "cell_type": "markdown",
   "metadata": {},
   "source": [
    "# Importing Data  "
   ]
  },
  {
   "cell_type": "code",
   "execution_count": 10,
   "metadata": {},
   "outputs": [
    {
     "data": {
      "text/html": [
       "<div>\n",
       "<style scoped>\n",
       "    .dataframe tbody tr th:only-of-type {\n",
       "        vertical-align: middle;\n",
       "    }\n",
       "\n",
       "    .dataframe tbody tr th {\n",
       "        vertical-align: top;\n",
       "    }\n",
       "\n",
       "    .dataframe thead th {\n",
       "        text-align: right;\n",
       "    }\n",
       "</style>\n",
       "<table border=\"1\" class=\"dataframe\">\n",
       "  <thead>\n",
       "    <tr style=\"text-align: right;\">\n",
       "      <th></th>\n",
       "      <th>satisfaction_level</th>\n",
       "      <th>last_evaluation</th>\n",
       "      <th>number_project</th>\n",
       "      <th>average_montly_hours</th>\n",
       "      <th>time_spend_company</th>\n",
       "      <th>Work_accident</th>\n",
       "      <th>left</th>\n",
       "      <th>promotion_last_5years</th>\n",
       "      <th>sales</th>\n",
       "      <th>salary</th>\n",
       "    </tr>\n",
       "  </thead>\n",
       "  <tbody>\n",
       "    <tr>\n",
       "      <th>0</th>\n",
       "      <td>0.38</td>\n",
       "      <td>0.53</td>\n",
       "      <td>2</td>\n",
       "      <td>157</td>\n",
       "      <td>3</td>\n",
       "      <td>0</td>\n",
       "      <td>1</td>\n",
       "      <td>0</td>\n",
       "      <td>sales</td>\n",
       "      <td>low</td>\n",
       "    </tr>\n",
       "    <tr>\n",
       "      <th>1</th>\n",
       "      <td>0.80</td>\n",
       "      <td>0.86</td>\n",
       "      <td>5</td>\n",
       "      <td>262</td>\n",
       "      <td>6</td>\n",
       "      <td>0</td>\n",
       "      <td>1</td>\n",
       "      <td>0</td>\n",
       "      <td>sales</td>\n",
       "      <td>medium</td>\n",
       "    </tr>\n",
       "    <tr>\n",
       "      <th>2</th>\n",
       "      <td>0.11</td>\n",
       "      <td>0.88</td>\n",
       "      <td>7</td>\n",
       "      <td>272</td>\n",
       "      <td>4</td>\n",
       "      <td>0</td>\n",
       "      <td>1</td>\n",
       "      <td>0</td>\n",
       "      <td>sales</td>\n",
       "      <td>medium</td>\n",
       "    </tr>\n",
       "    <tr>\n",
       "      <th>3</th>\n",
       "      <td>0.72</td>\n",
       "      <td>0.87</td>\n",
       "      <td>5</td>\n",
       "      <td>223</td>\n",
       "      <td>5</td>\n",
       "      <td>0</td>\n",
       "      <td>1</td>\n",
       "      <td>0</td>\n",
       "      <td>sales</td>\n",
       "      <td>low</td>\n",
       "    </tr>\n",
       "    <tr>\n",
       "      <th>4</th>\n",
       "      <td>0.37</td>\n",
       "      <td>0.52</td>\n",
       "      <td>2</td>\n",
       "      <td>159</td>\n",
       "      <td>3</td>\n",
       "      <td>0</td>\n",
       "      <td>1</td>\n",
       "      <td>0</td>\n",
       "      <td>sales</td>\n",
       "      <td>low</td>\n",
       "    </tr>\n",
       "  </tbody>\n",
       "</table>\n",
       "</div>"
      ],
      "text/plain": [
       "   satisfaction_level  last_evaluation  number_project  average_montly_hours  \\\n",
       "0                0.38             0.53               2                   157   \n",
       "1                0.80             0.86               5                   262   \n",
       "2                0.11             0.88               7                   272   \n",
       "3                0.72             0.87               5                   223   \n",
       "4                0.37             0.52               2                   159   \n",
       "\n",
       "   time_spend_company  Work_accident  left  promotion_last_5years  sales  \\\n",
       "0                   3              0     1                      0  sales   \n",
       "1                   6              0     1                      0  sales   \n",
       "2                   4              0     1                      0  sales   \n",
       "3                   5              0     1                      0  sales   \n",
       "4                   3              0     1                      0  sales   \n",
       "\n",
       "   salary  \n",
       "0     low  \n",
       "1  medium  \n",
       "2  medium  \n",
       "3     low  \n",
       "4     low  "
      ]
     },
     "execution_count": 10,
     "metadata": {},
     "output_type": "execute_result"
    }
   ],
   "source": [
    "df_raw = pd.read_csv('/Users/macbook/Desktop/IE_MBD/2nd_Term/Machine_Learning/IndividualAssignment/turnover.csv')\n",
    "\n",
    "df = df_raw.copy()\n",
    "df.head()"
   ]
  },
  {
   "cell_type": "markdown",
   "metadata": {},
   "source": [
    "# Exploring Data"
   ]
  },
  {
   "cell_type": "markdown",
   "metadata": {},
   "source": [
    "### Distribution of satisfaction level and employee turnover"
   ]
  },
  {
   "cell_type": "code",
   "execution_count": 11,
   "metadata": {},
   "outputs": [
    {
     "data": {
      "text/plain": [
       "<matplotlib.axes._subplots.AxesSubplot at 0x1c274192b0>"
      ]
     },
     "execution_count": 11,
     "metadata": {},
     "output_type": "execute_result"
    },
    {
     "data": {
      "image/png": "[encoded data removed]",
      "text/plain": [
       "<Figure size 2160x360 with 1 Axes>"
      ]
     },
     "metadata": {
      "needs_background": "light"
     },
     "output_type": "display_data"
    }
   ],
   "source": [
    "#Graphical Representation of this variable\n",
    "plt.figure(figsize=(30,5))\n",
    "((df_raw[df_raw.left==1].satisfaction_level.value_counts().sort_index()/len(df_raw.left))*100).plot(kind='bar',color='#f44162')\n",
    "((df_raw[df_raw.left==0].satisfaction_level.value_counts().sort_index()/len(df_raw.left))*100).plot(kind='bar',color='#4286f4',alpha=0.6)\n"
   ]
  },
  {
   "cell_type": "markdown",
   "metadata": {},
   "source": [
    "### Distribution of evaluation level and employee turnover"
   ]
  },
  {
   "cell_type": "code",
   "execution_count": 12,
   "metadata": {},
   "outputs": [
    {
     "data": {
      "text/plain": [
       "<matplotlib.axes._subplots.AxesSubplot at 0x1c27bdea90>"
      ]
     },
     "execution_count": 12,
     "metadata": {},
     "output_type": "execute_result"
    },
    {
     "data": {
      "image/png": "[encoded data removed]",
      "text/plain": [
       "<Figure size 2160x360 with 1 Axes>"
      ]
     },
     "metadata": {
      "needs_background": "light"
     },
     "output_type": "display_data"
    }
   ],
   "source": [
    "\n",
    "plt.figure(figsize=(30,5))\n",
    "((df_raw[df_raw.left==1].last_evaluation.value_counts().sort_index()/len(df_raw.left))*100).plot(kind='bar',color='#f44162')\n",
    "((df_raw[df_raw.left==0].last_evaluation.value_counts().sort_index()/len(df_raw.left))*100).plot(kind='bar',color='#4286f4',alpha=0.6)\n"
   ]
  },
  {
   "cell_type": "markdown",
   "metadata": {},
   "source": [
    "### Proportion of employees' tenure and turnover"
   ]
  },
  {
   "cell_type": "code",
   "execution_count": 13,
   "metadata": {},
   "outputs": [
    {
     "name": "stdout",
     "output_type": "stream",
     "text": [
      "Proportion of people left vs time spend\n",
      "2     0.016338\n",
      "3     0.246159\n",
      "4     0.348064\n",
      "5     0.565513\n",
      "6     0.291086\n",
      "7          NaN\n",
      "8          NaN\n",
      "10         NaN\n",
      "Name: time_spend_company, dtype: float64\n"
     ]
    },
    {
     "data": {
      "text/plain": [
       "<matplotlib.axes._subplots.AxesSubplot at 0x1c28d575c0>"
      ]
     },
     "execution_count": 13,
     "metadata": {},
     "output_type": "execute_result"
    },
    {
     "data": {
      "image/png": "[encoded data removed]",
      "text/plain": [
       "<Figure size 504x360 with 1 Axes>"
      ]
     },
     "metadata": {
      "needs_background": "light"
     },
     "output_type": "display_data"
    }
   ],
   "source": [
    "#Try to find out the proportion of employee who left for each level of timeframe \n",
    "\n",
    "a = ((df_raw[df_raw.left==1].time_spend_company.value_counts()))\n",
    "b = ((df_raw[df_raw.left==0].time_spend_company.value_counts()))\n",
    "print (\"Proportion of people left vs time spend\")\n",
    "print (a/(a+b)) \n",
    "\n",
    "#Graphical Representation of this variable\n",
    "\n",
    "plt.figure(figsize=(7,5))\n",
    "((df_raw[df_raw.left==1].time_spend_company.value_counts().sort_index()/len(df_raw.left))*100).plot(kind='bar',color='#f44162')\n",
    "((df_raw[df_raw.left==0].time_spend_company.value_counts().sort_index()/len(df_raw.left))*100).plot(kind='bar',color='#4286f4',alpha=0.4)\n",
    "\n"
   ]
  },
  {
   "cell_type": "markdown",
   "metadata": {},
   "source": [
    "This show that newly hired and long tenured employees are less likely to quit"
   ]
  },
  {
   "cell_type": "markdown",
   "metadata": {},
   "source": [
    "### Proportion of employee who left with the number of projects they have"
   ]
  },
  {
   "cell_type": "code",
   "execution_count": 14,
   "metadata": {},
   "outputs": [
    {
     "name": "stdout",
     "output_type": "stream",
     "text": [
      "Proportion of people left vs number of project\n",
      "2    0.656198\n",
      "3    0.017756\n",
      "4    0.093700\n",
      "5    0.221659\n",
      "6    0.557922\n",
      "7         NaN\n",
      "Name: number_project, dtype: float64\n"
     ]
    },
    {
     "data": {
      "text/plain": [
       "<matplotlib.axes._subplots.AxesSubplot at 0x1c28dc2588>"
      ]
     },
     "execution_count": 14,
     "metadata": {},
     "output_type": "execute_result"
    },
    {
     "data": {
      "image/png": "[encoded data removed]",
      "text/plain": [
       "<Figure size 504x360 with 1 Axes>"
      ]
     },
     "metadata": {
      "needs_background": "light"
     },
     "output_type": "display_data"
    }
   ],
   "source": [
    "\n",
    "a = ((df_raw[df_raw.left==1].number_project.value_counts()))\n",
    "b = ((df_raw[df_raw.left==0].number_project.value_counts()))\n",
    "print (\"Proportion of people left vs number of project\")\n",
    "print (a/(a+b)) \n",
    "\n",
    "#Graphical Representation of this variable\n",
    "\n",
    "plt.figure(figsize=(7,5))\n",
    "((df_raw[df_raw.left==0].number_project.value_counts().sort_index()/len(df_raw.left))*100).plot(kind='bar',color='#4286f4',alpha=0.4)\n",
    "((df_raw[df_raw.left==1].number_project.value_counts().sort_index()/len(df_raw.left))*100).plot(kind='bar',color='#f44162')\n"
   ]
  },
  {
   "cell_type": "markdown",
   "metadata": {},
   "source": [
    "This show that employee with less projects at around 2 is very likely to quit. This is might be because of the lack of motivation while people with high number above 5 of project quit because of stress"
   ]
  },
  {
   "cell_type": "markdown",
   "metadata": {},
   "source": [
    "### Distribution of work hours and employee turnover"
   ]
  },
  {
   "cell_type": "code",
   "execution_count": 15,
   "metadata": {},
   "outputs": [
    {
     "data": {
      "text/plain": [
       "<matplotlib.axes._subplots.AxesSubplot at 0x1c28da19e8>"
      ]
     },
     "execution_count": 15,
     "metadata": {},
     "output_type": "execute_result"
    },
    {
     "data": {
      "image/png": "[encoded data removed]",
      "text/plain": [
       "<Figure size 2160x360 with 1 Axes>"
      ]
     },
     "metadata": {
      "needs_background": "light"
     },
     "output_type": "display_data"
    }
   ],
   "source": [
    "\n",
    "plt.figure(figsize=(30,5))\n",
    "((df_raw[df_raw.left==1].average_montly_hours.value_counts().sort_index()/len(df_raw.left))*100).plot(kind='bar',color='#f44162')\n",
    "((df_raw[df_raw.left==0].average_montly_hours.value_counts().sort_index()/len(df_raw.left))*100).plot(kind='bar',color='#4286f4',alpha=0.6)\n"
   ]
  },
  {
   "cell_type": "markdown",
   "metadata": {},
   "source": [
    "### Proportion of people left vs division"
   ]
  },
  {
   "cell_type": "code",
   "execution_count": 16,
   "metadata": {},
   "outputs": [
    {
     "name": "stdout",
     "output_type": "stream",
     "text": [
      "Proportion of people left vs division\n",
      "IT             0.222494\n",
      "RandD          0.153748\n",
      "accounting     0.265971\n",
      "hr             0.290934\n",
      "management     0.144444\n",
      "marketing      0.236597\n",
      "product_mng    0.219512\n",
      "sales          0.244928\n",
      "support        0.248991\n",
      "technical      0.256250\n",
      "Name: sales, dtype: float64\n"
     ]
    },
    {
     "data": {
      "text/plain": [
       "<matplotlib.axes._subplots.AxesSubplot at 0x1c29475e80>"
      ]
     },
     "execution_count": 16,
     "metadata": {},
     "output_type": "execute_result"
    },
    {
     "data": {
      "image/png": "[encoded data removed]",
      "text/plain": [
       "<Figure size 504x360 with 1 Axes>"
      ]
     },
     "metadata": {
      "needs_background": "light"
     },
     "output_type": "display_data"
    }
   ],
   "source": [
    "a = ((df_raw[df_raw.left==1].sales.value_counts()))\n",
    "b = ((df_raw[df_raw.left==0].sales.value_counts()))\n",
    "print (\"Proportion of people left vs division\")\n",
    "print (a/(a+b))\n",
    "\n",
    "plt.figure(figsize=(7,5))\n",
    "((df_raw[df_raw.left==0].sales.value_counts()/len(df_raw.left))*100).plot(kind='bar',color='#4286f4',alpha=0.4)\n",
    "((df_raw[df_raw.left==1].sales.value_counts()/len(df_raw.left))*100).plot(kind='bar',color='#f44162')\n",
    "\n",
    "\n"
   ]
  },
  {
   "cell_type": "code",
   "execution_count": 17,
   "metadata": {},
   "outputs": [
    {
     "name": "stdout",
     "output_type": "stream",
     "text": [
      "Proportion of people left vs division\n",
      "low       0.296884\n",
      "medium    0.204313\n",
      "high      0.066289\n",
      "Name: salary, dtype: float64\n"
     ]
    }
   ],
   "source": [
    "a = ((df_raw[df_raw.left==1].salary.value_counts()))\n",
    "b = ((df_raw[df_raw.left==0].salary.value_counts()))\n",
    "print (\"Proportion of people left vs division\")\n",
    "print (a/(a+b))"
   ]
  },
  {
   "cell_type": "markdown",
   "metadata": {},
   "source": [
    "# 1. Building Base Line Model "
   ]
  },
  {
   "cell_type": "markdown",
   "metadata": {},
   "source": [
    "### 1.1 Integer encoding on categorical variable “salaries”"
   ]
  },
  {
   "cell_type": "code",
   "execution_count": 18,
   "metadata": {},
   "outputs": [
    {
     "name": "stdout",
     "output_type": "stream",
     "text": [
      "<class 'pandas.core.frame.DataFrame'>\n",
      "RangeIndex: 14999 entries, 0 to 14998\n",
      "Data columns (total 10 columns):\n",
      "satisfaction_level       14999 non-null float64\n",
      "last_evaluation          14999 non-null float64\n",
      "number_project           14999 non-null int64\n",
      "average_montly_hours     14999 non-null int64\n",
      "time_spend_company       14999 non-null int64\n",
      "Work_accident            14999 non-null int64\n",
      "left                     14999 non-null int64\n",
      "promotion_last_5years    14999 non-null int64\n",
      "sales                    14999 non-null object\n",
      "salary                   14999 non-null int8\n",
      "dtypes: float64(2), int64(6), int8(1), object(1)\n",
      "memory usage: 1.0+ MB\n"
     ]
    }
   ],
   "source": [
    "df[\"salary\"] = df[\"salary\"].astype('category').cat.reorder_categories(['low', 'medium', 'high']).cat.codes\n",
    "df.info()"
   ]
  },
  {
   "cell_type": "markdown",
   "metadata": {},
   "source": [
    "### 1.2 Converting promotion_last_5years & Work_accident into boolean"
   ]
  },
  {
   "cell_type": "code",
   "execution_count": 19,
   "metadata": {},
   "outputs": [
    {
     "name": "stdout",
     "output_type": "stream",
     "text": [
      "<class 'pandas.core.frame.DataFrame'>\n",
      "RangeIndex: 14999 entries, 0 to 14998\n",
      "Data columns (total 10 columns):\n",
      "satisfaction_level       14999 non-null float64\n",
      "last_evaluation          14999 non-null float64\n",
      "number_project           14999 non-null int64\n",
      "average_montly_hours     14999 non-null int64\n",
      "time_spend_company       14999 non-null int64\n",
      "Work_accident            14999 non-null uint8\n",
      "left                     14999 non-null int64\n",
      "promotion_last_5years    14999 non-null uint8\n",
      "sales                    14999 non-null object\n",
      "salary                   14999 non-null int8\n",
      "dtypes: float64(2), int64(4), int8(1), object(1), uint8(2)\n",
      "memory usage: 864.3+ KB\n"
     ]
    }
   ],
   "source": [
    "df[\"Work_accident\"] = df[\"Work_accident\"].astype('uint8')\n",
    "df[\"promotion_last_5years\"] = df[\"promotion_last_5years\"].astype('uint8')\n",
    "df.info()"
   ]
  },
  {
   "cell_type": "markdown",
   "metadata": {},
   "source": [
    "### 1.3 One Hot Encoding categorical variables \"sales\" "
   ]
  },
  {
   "cell_type": "code",
   "execution_count": 20,
   "metadata": {},
   "outputs": [
    {
     "data": {
      "text/html": [
       "<div>\n",
       "<style scoped>\n",
       "    .dataframe tbody tr th:only-of-type {\n",
       "        vertical-align: middle;\n",
       "    }\n",
       "\n",
       "    .dataframe tbody tr th {\n",
       "        vertical-align: top;\n",
       "    }\n",
       "\n",
       "    .dataframe thead th {\n",
       "        text-align: right;\n",
       "    }\n",
       "</style>\n",
       "<table border=\"1\" class=\"dataframe\">\n",
       "  <thead>\n",
       "    <tr style=\"text-align: right;\">\n",
       "      <th></th>\n",
       "      <th>IT</th>\n",
       "      <th>RandD</th>\n",
       "      <th>accounting</th>\n",
       "      <th>hr</th>\n",
       "      <th>management</th>\n",
       "      <th>marketing</th>\n",
       "      <th>product_mng</th>\n",
       "      <th>sales</th>\n",
       "      <th>support</th>\n",
       "      <th>technical</th>\n",
       "    </tr>\n",
       "  </thead>\n",
       "  <tbody>\n",
       "    <tr>\n",
       "      <th>0</th>\n",
       "      <td>0</td>\n",
       "      <td>0</td>\n",
       "      <td>0</td>\n",
       "      <td>0</td>\n",
       "      <td>0</td>\n",
       "      <td>0</td>\n",
       "      <td>0</td>\n",
       "      <td>1</td>\n",
       "      <td>0</td>\n",
       "      <td>0</td>\n",
       "    </tr>\n",
       "    <tr>\n",
       "      <th>1</th>\n",
       "      <td>0</td>\n",
       "      <td>0</td>\n",
       "      <td>0</td>\n",
       "      <td>0</td>\n",
       "      <td>0</td>\n",
       "      <td>0</td>\n",
       "      <td>0</td>\n",
       "      <td>1</td>\n",
       "      <td>0</td>\n",
       "      <td>0</td>\n",
       "    </tr>\n",
       "    <tr>\n",
       "      <th>2</th>\n",
       "      <td>0</td>\n",
       "      <td>0</td>\n",
       "      <td>0</td>\n",
       "      <td>0</td>\n",
       "      <td>0</td>\n",
       "      <td>0</td>\n",
       "      <td>0</td>\n",
       "      <td>1</td>\n",
       "      <td>0</td>\n",
       "      <td>0</td>\n",
       "    </tr>\n",
       "    <tr>\n",
       "      <th>3</th>\n",
       "      <td>0</td>\n",
       "      <td>0</td>\n",
       "      <td>0</td>\n",
       "      <td>0</td>\n",
       "      <td>0</td>\n",
       "      <td>0</td>\n",
       "      <td>0</td>\n",
       "      <td>1</td>\n",
       "      <td>0</td>\n",
       "      <td>0</td>\n",
       "    </tr>\n",
       "    <tr>\n",
       "      <th>4</th>\n",
       "      <td>0</td>\n",
       "      <td>0</td>\n",
       "      <td>0</td>\n",
       "      <td>0</td>\n",
       "      <td>0</td>\n",
       "      <td>0</td>\n",
       "      <td>0</td>\n",
       "      <td>1</td>\n",
       "      <td>0</td>\n",
       "      <td>0</td>\n",
       "    </tr>\n",
       "  </tbody>\n",
       "</table>\n",
       "</div>"
      ],
      "text/plain": [
       "   IT  RandD  accounting  hr  management  marketing  product_mng  sales  \\\n",
       "0   0      0           0   0           0          0            0      1   \n",
       "1   0      0           0   0           0          0            0      1   \n",
       "2   0      0           0   0           0          0            0      1   \n",
       "3   0      0           0   0           0          0            0      1   \n",
       "4   0      0           0   0           0          0            0      1   \n",
       "\n",
       "   support  technical  \n",
       "0        0          0  \n",
       "1        0          0  \n",
       "2        0          0  \n",
       "3        0          0  \n",
       "4        0          0  "
      ]
     },
     "execution_count": 20,
     "metadata": {},
     "output_type": "execute_result"
    }
   ],
   "source": [
    "# One Hot Encoding \n",
    "\n",
    "department = pd.get_dummies(df[\"sales\"])\n",
    "department.head()"
   ]
  },
  {
   "cell_type": "code",
   "execution_count": 21,
   "metadata": {},
   "outputs": [
    {
     "data": {
      "text/html": [
       "<div>\n",
       "<style scoped>\n",
       "    .dataframe tbody tr th:only-of-type {\n",
       "        vertical-align: middle;\n",
       "    }\n",
       "\n",
       "    .dataframe tbody tr th {\n",
       "        vertical-align: top;\n",
       "    }\n",
       "\n",
       "    .dataframe thead th {\n",
       "        text-align: right;\n",
       "    }\n",
       "</style>\n",
       "<table border=\"1\" class=\"dataframe\">\n",
       "  <thead>\n",
       "    <tr style=\"text-align: right;\">\n",
       "      <th></th>\n",
       "      <th>satisfaction_level</th>\n",
       "      <th>last_evaluation</th>\n",
       "      <th>number_project</th>\n",
       "      <th>average_montly_hours</th>\n",
       "      <th>time_spend_company</th>\n",
       "      <th>Work_accident</th>\n",
       "      <th>left</th>\n",
       "      <th>promotion_last_5years</th>\n",
       "      <th>salary</th>\n",
       "    </tr>\n",
       "  </thead>\n",
       "  <tbody>\n",
       "    <tr>\n",
       "      <th>0</th>\n",
       "      <td>0.38</td>\n",
       "      <td>0.53</td>\n",
       "      <td>2</td>\n",
       "      <td>157</td>\n",
       "      <td>3</td>\n",
       "      <td>0</td>\n",
       "      <td>1</td>\n",
       "      <td>0</td>\n",
       "      <td>0</td>\n",
       "    </tr>\n",
       "    <tr>\n",
       "      <th>1</th>\n",
       "      <td>0.80</td>\n",
       "      <td>0.86</td>\n",
       "      <td>5</td>\n",
       "      <td>262</td>\n",
       "      <td>6</td>\n",
       "      <td>0</td>\n",
       "      <td>1</td>\n",
       "      <td>0</td>\n",
       "      <td>1</td>\n",
       "    </tr>\n",
       "    <tr>\n",
       "      <th>2</th>\n",
       "      <td>0.11</td>\n",
       "      <td>0.88</td>\n",
       "      <td>7</td>\n",
       "      <td>272</td>\n",
       "      <td>4</td>\n",
       "      <td>0</td>\n",
       "      <td>1</td>\n",
       "      <td>0</td>\n",
       "      <td>1</td>\n",
       "    </tr>\n",
       "    <tr>\n",
       "      <th>3</th>\n",
       "      <td>0.72</td>\n",
       "      <td>0.87</td>\n",
       "      <td>5</td>\n",
       "      <td>223</td>\n",
       "      <td>5</td>\n",
       "      <td>0</td>\n",
       "      <td>1</td>\n",
       "      <td>0</td>\n",
       "      <td>0</td>\n",
       "    </tr>\n",
       "    <tr>\n",
       "      <th>4</th>\n",
       "      <td>0.37</td>\n",
       "      <td>0.52</td>\n",
       "      <td>2</td>\n",
       "      <td>159</td>\n",
       "      <td>3</td>\n",
       "      <td>0</td>\n",
       "      <td>1</td>\n",
       "      <td>0</td>\n",
       "      <td>0</td>\n",
       "    </tr>\n",
       "  </tbody>\n",
       "</table>\n",
       "</div>"
      ],
      "text/plain": [
       "   satisfaction_level  last_evaluation  number_project  average_montly_hours  \\\n",
       "0                0.38             0.53               2                   157   \n",
       "1                0.80             0.86               5                   262   \n",
       "2                0.11             0.88               7                   272   \n",
       "3                0.72             0.87               5                   223   \n",
       "4                0.37             0.52               2                   159   \n",
       "\n",
       "   time_spend_company  Work_accident  left  promotion_last_5years  salary  \n",
       "0                   3              0     1                      0       0  \n",
       "1                   6              0     1                      0       1  \n",
       "2                   4              0     1                      0       1  \n",
       "3                   5              0     1                      0       0  \n",
       "4                   3              0     1                      0       0  "
      ]
     },
     "execution_count": 21,
     "metadata": {},
     "output_type": "execute_result"
    }
   ],
   "source": [
    "df = df.drop([\"sales\"], axis=1)\n",
    "df.head()"
   ]
  },
  {
   "cell_type": "code",
   "execution_count": 22,
   "metadata": {},
   "outputs": [],
   "source": [
    "df = df.join(department)\n",
    "y = df.loc[:, 'left']\n",
    "df.drop('left', inplace=True, axis=1)"
   ]
  },
  {
   "cell_type": "markdown",
   "metadata": {},
   "source": [
    "### 1.4 Check & Fix Skewness "
   ]
  },
  {
   "cell_type": "code",
   "execution_count": 23,
   "metadata": {},
   "outputs": [
    {
     "data": {
      "text/plain": [
       "(time_spend_company      1.853134\n",
       " number_project          0.337672\n",
       " average_montly_hours    0.052837\n",
       " last_evaluation        -0.026619\n",
       " satisfaction_level     -0.476313\n",
       " dtype: float64,\n",
       " ['satisfaction_level',\n",
       "  'last_evaluation',\n",
       "  'number_project',\n",
       "  'average_montly_hours',\n",
       "  'time_spend_company'])"
      ]
     },
     "execution_count": 23,
     "metadata": {},
     "output_type": "execute_result"
    }
   ],
   "source": [
    "def feature_skewness(df):\n",
    "    numeric_dtypes = ['int16', 'int32', 'int64', \n",
    "                      'float16', 'float32', 'float64']\n",
    "    numeric_features = []\n",
    "    for i in df.columns:\n",
    "        if df[i].dtype in numeric_dtypes: \n",
    "            numeric_features.append(i)\n",
    "\n",
    "    feature_skew = df[numeric_features].apply(\n",
    "        lambda x: skew(x)).sort_values(ascending=False)\n",
    "    skews = pd.DataFrame({'skew':feature_skew})\n",
    "    return feature_skew, numeric_features\n",
    "\n",
    "\n",
    "def fix_skewness(df):\n",
    "    feature_skew, numeric_features = feature_skewness(df)\n",
    "    high_skew = feature_skew[feature_skew > 2]\n",
    "    skew_index = high_skew.index\n",
    "    \n",
    "    for i in skew_index:\n",
    "        df[i] = boxcox1p(df[i], boxcox_normmax(df[i]+1))\n",
    "\n",
    "    skew_features = df[numeric_features].apply(\n",
    "        lambda x: skew(x)).sort_values(ascending=False)\n",
    "    skews = pd.DataFrame({'skew':skew_features})\n",
    "    return df\n",
    "\n",
    "feature_skewness(df)"
   ]
  },
  {
   "cell_type": "markdown",
   "metadata": {},
   "source": [
    "### 1.5 Correlation Matrix"
   ]
  },
  {
   "cell_type": "code",
   "execution_count": 24,
   "metadata": {},
   "outputs": [
    {
     "data": {
      "text/plain": [
       "<matplotlib.axes._subplots.AxesSubplot at 0x1c294ee320>"
      ]
     },
     "execution_count": 24,
     "metadata": {},
     "output_type": "execute_result"
    },
    {
     "data": {
      "image/png": "[encoded data removed]",
      "text/plain": [
       "<Figure size 720x576 with 2 Axes>"
      ]
     },
     "metadata": {
      "needs_background": "light"
     },
     "output_type": "display_data"
    }
   ],
   "source": [
    "plt.figure(figsize = (10,8))\n",
    "sns.heatmap(df.corr()) "
   ]
  },
  {
   "cell_type": "markdown",
   "metadata": {},
   "source": [
    "### 1.6 Feature Reduction using Recursive Feature Elimination "
   ]
  },
  {
   "cell_type": "code",
   "execution_count": 25,
   "metadata": {},
   "outputs": [
    {
     "name": "stdout",
     "output_type": "stream",
     "text": [
      "Selected features: ['satisfaction_level', 'last_evaluation', 'number_project', 'average_montly_hours', 'time_spend_company', 'Work_accident', 'promotion_last_5years', 'salary', 'IT', 'RandD', 'accounting', 'hr', 'management', 'marketing', 'product_mng', 'sales', 'support', 'technical']\n"
     ]
    }
   ],
   "source": [
    "\n",
    "features = list(df)\n",
    "\n",
    "X = df.loc[:, features]\n",
    "\n",
    "logreg = LogisticRegression(solver='lbfgs', max_iter=250)\n",
    "rfe = RFE(logreg, 18)\n",
    "rfe = rfe.fit(X, y)\n",
    "\n",
    "print('Selected features: {}'.format(list(df.loc[:, rfe.support_])))"
   ]
  },
  {
   "cell_type": "markdown",
   "metadata": {},
   "source": [
    "#### 1.6.1 Build the model with selected values \n"
   ]
  },
  {
   "cell_type": "code",
   "execution_count": 26,
   "metadata": {},
   "outputs": [
    {
     "name": "stdout",
     "output_type": "stream",
     "text": [
      "Warning: Maximum number of iterations has been exceeded.\n",
      "         Current function value: 0.430547\n",
      "         Iterations: 35\n",
      "         Function evaluations: 39\n",
      "         Gradient evaluations: 39\n",
      "                            Results: Logit\n",
      "======================================================================\n",
      "Model:                 Logit             Pseudo R-squared:  0.216     \n",
      "Dependent Variable:    left              AIC:               12951.5489\n",
      "Date:                  2019-02-17 16:59  BIC:               13088.6322\n",
      "No. Observations:      14999             Log-Likelihood:    -6457.8   \n",
      "Df Model:              17                LL-Null:           -8232.3   \n",
      "Df Residuals:          14981             LLR p-value:       0.0000    \n",
      "Converged:             0.0000            Scale:             1.0000    \n",
      "----------------------------------------------------------------------\n",
      "                       Coef.  Std.Err.    z     P>|z|   [0.025  0.975]\n",
      "----------------------------------------------------------------------\n",
      "satisfaction_level    -4.0323   0.0977 -41.2664 0.0000 -4.2238 -3.8408\n",
      "last_evaluation        0.7870   0.1492   5.2750 0.0000  0.4946  1.0794\n",
      "number_project        -0.2980   0.0213 -13.9842 0.0000 -0.3398 -0.2562\n",
      "average_montly_hours   0.0049   0.0005   9.5483 0.0000  0.0039  0.0059\n",
      "time_spend_company     0.2797   0.0155  18.0750 0.0000  0.2494  0.3100\n",
      "Work_accident         -1.5405   0.0903 -17.0625 0.0000 -1.7174 -1.3635\n",
      "promotion_last_5years -0.8503   0.2189  -3.8844 0.0001 -1.2793 -0.4213\n",
      "salary                -0.6757   0.0384 -17.6147 0.0000 -0.7509 -0.6005\n",
      "IT                    -0.0168   0.1416  -0.1187 0.9055 -0.2944  0.2608\n",
      "RandD                 -0.5782   0.1649  -3.5065 0.0005 -0.9014 -0.2550\n",
      "accounting             0.0951   0.1504   0.6325 0.5270 -0.1996  0.3898\n",
      "hr                     0.4409   0.1475   2.9880 0.0028  0.1517  0.7300\n",
      "management            -0.6124   0.1839  -3.3308 0.0009 -0.9728 -0.2521\n",
      "marketing              0.0925   0.1501   0.6160 0.5379 -0.2018  0.3867\n",
      "product_mng           -0.0356   0.1490  -0.2387 0.8113 -0.3277  0.2565\n",
      "sales                  0.1549   0.1240   1.2493 0.2115 -0.0881  0.3980\n",
      "support                0.3219   0.1296   2.4830 0.0130  0.0678  0.5759\n",
      "technical              0.3054   0.1278   2.3899 0.0169  0.0549  0.5559\n",
      "======================================================================\n",
      "\n"
     ]
    }
   ],
   "source": [
    "df_X = df.loc[:, list(df.loc[:, rfe.support_])]\n",
    "\n",
    "logit_model=sm.Logit(y, df_X)\n",
    "result=logit_model.fit(method='bfgs')\n",
    "print(result.summary2())"
   ]
  },
  {
   "cell_type": "markdown",
   "metadata": {},
   "source": [
    "#### 1.6.2 Drop variables of high p values"
   ]
  },
  {
   "cell_type": "code",
   "execution_count": 27,
   "metadata": {},
   "outputs": [
    {
     "name": "stdout",
     "output_type": "stream",
     "text": [
      "Warning: Maximum number of iterations has been exceeded.\n",
      "         Current function value: 0.430591\n",
      "         Iterations: 35\n",
      "         Function evaluations: 39\n",
      "         Gradient evaluations: 39\n",
      "                            Results: Logit\n",
      "======================================================================\n",
      "Model:                 Logit             Pseudo R-squared:  0.215     \n",
      "Dependent Variable:    left              AIC:               12942.8632\n",
      "Date:                  2019-02-17 16:59  BIC:               13041.8678\n",
      "No. Observations:      14999             Log-Likelihood:    -6458.4   \n",
      "Df Model:              12                LL-Null:           -8232.3   \n",
      "Df Residuals:          14986             LLR p-value:       0.0000    \n",
      "Converged:             0.0000            Scale:             1.0000    \n",
      "----------------------------------------------------------------------\n",
      "                       Coef.  Std.Err.    z     P>|z|   [0.025  0.975]\n",
      "----------------------------------------------------------------------\n",
      "satisfaction_level    -4.0055   0.0911 -43.9614 0.0000 -4.1841 -3.8269\n",
      "last_evaluation        0.8899   0.1403   6.3416 0.0000  0.6149  1.1649\n",
      "number_project        -0.3042   0.0212 -14.3283 0.0000 -0.3458 -0.2626\n",
      "average_montly_hours   0.0051   0.0005  10.5456 0.0000  0.0041  0.0060\n",
      "time_spend_company     0.2789   0.0148  18.8309 0.0000  0.2499  0.3079\n",
      "Work_accident         -1.5015   0.0891 -16.8557 0.0000 -1.6760 -1.3269\n",
      "promotion_last_5years -0.8940   0.2195  -4.0729 0.0000 -1.3243 -0.4638\n",
      "salary                -0.6776   0.0380 -17.8371 0.0000 -0.7520 -0.6031\n",
      "RandD                 -0.5029   0.1150  -4.3735 0.0000 -0.7282 -0.2775\n",
      "hr                     0.5029   0.0945   5.3232 0.0000  0.3177  0.6881\n",
      "management            -0.5548   0.1337  -4.1489 0.0000 -0.8169 -0.2927\n",
      "support                0.1371   0.0635   2.1608 0.0307  0.0127  0.2615\n",
      "technical              0.2064   0.0584   3.5365 0.0004  0.0920  0.3209\n",
      "======================================================================\n",
      "\n"
     ]
    }
   ],
   "source": [
    "\n",
    "to_remove = result.pvalues[result.pvalues > 0.05].index.tolist()\n",
    "df_X.drop(to_remove, inplace=True, axis=1)\n",
    "\n",
    "logit_model=sm.Logit(y, df_X)\n",
    "result=logit_model.fit(method='bfgs')\n",
    "print(result.summary2())"
   ]
  },
  {
   "cell_type": "markdown",
   "metadata": {},
   "source": [
    "# 2. Evaluate Base Model"
   ]
  },
  {
   "cell_type": "code",
   "execution_count": 44,
   "metadata": {},
   "outputs": [
    {
     "name": "stdout",
     "output_type": "stream",
     "text": [
      "              precision    recall  f1-score   support\n",
      "\n",
      "           0       0.82      0.93      0.87      9128\n",
      "           1       0.62      0.36      0.45      2872\n",
      "\n",
      "   micro avg       0.79      0.79      0.79     12000\n",
      "   macro avg       0.72      0.64      0.66     12000\n",
      "weighted avg       0.77      0.79      0.77     12000\n",
      "\n",
      "Accuracy Score is: 0.794\n",
      "AUC Score is: 0.644\n"
     ]
    }
   ],
   "source": [
    "X_train, X_test, y_train, y_test = train_test_split(df_X, y, test_size=0.8, random_state=100)\n",
    "\n",
    "lr = LogisticRegression(penalty='l2',C = 0.5)\n",
    "lr.fit(X_train,y_train)\n",
    "pred=lr.predict(X_test)\n",
    "\n",
    "\n",
    "\n",
    "print(classification_report(y_test, pred))\n",
    "print(\"Accuracy Score is: {:.3f}\".format(accuracy_score(y_test, pred)))\n",
    "print(\"AUC Score is: {:.3f}\".format(roc_auc_score(y_test, pred)))"
   ]
  },
  {
   "cell_type": "markdown",
   "metadata": {},
   "source": [
    "## 2.1 Cross Validate Base Model"
   ]
  },
  {
   "cell_type": "code",
   "execution_count": 363,
   "metadata": {},
   "outputs": [
    {
     "name": "stdout",
     "output_type": "stream",
     "text": [
      "Obtained 10 positive Accurary scores\n",
      "Best Validation Accuracy: 0.798\n",
      "Avg. Validation Accuracy: 0.790\n"
     ]
    }
   ],
   "source": [
    "X_train, X_test, y_train, y_test = train_test_split(df_X, y, test_size=0.20, random_state=100)\n",
    "\n",
    "cv = ShuffleSplit(n_splits = 10, test_size=0.2, random_state=100)\n",
    "\n",
    "scores = cross_val_score(LogisticRegression(), X_train, y_train, cv=cv)\n",
    "\n",
    "print('Obtained {} positive Accurary scores'.format(len(scores[scores > 0.0])))\n",
    "print('Best Validation Accuracy: {:.3f}'.format(max(scores)))\n",
    "print('Avg. Validation Accuracy: {:.3f}'.format(np.mean(scores[scores > 0.0])))"
   ]
  },
  {
   "cell_type": "code",
   "execution_count": 364,
   "metadata": {},
   "outputs": [
    {
     "data": {
      "image/png": "[encoded data removed]",
      "text/plain": [
       "<Figure size 432x288 with 1 Axes>"
      ]
     },
     "metadata": {
      "needs_background": "light"
     },
     "output_type": "display_data"
    }
   ],
   "source": [
    "sns.distplot(scores[scores > 0.0], hist = False, kde = True, \n",
    "             kde_kws = {'shade': True, 'linewidth': 3});\n",
    "plt.title('Distribution of Accuracy scores')\n",
    "plt.show();"
   ]
  },
  {
   "cell_type": "markdown",
   "metadata": {},
   "source": [
    "## 2.2 Evaluate Base Model with Polynomial Features"
   ]
  },
  {
   "cell_type": "code",
   "execution_count": 49,
   "metadata": {},
   "outputs": [
    {
     "name": "stdout",
     "output_type": "stream",
     "text": [
      "Obtained 10 positive Accuracy scores\n",
      "Best CV Accuracy: 0.86\n",
      "Avg. CV Accuracy: 0.84 +/- 0.015\n",
      "Accuracy in hold-out dataset: 0.83\n"
     ]
    }
   ],
   "source": [
    "X_train, X_test, y_train, y_test = train_test_split(df_X, y, test_size=0.20, random_state=100)\n",
    "\n",
    "cv = ShuffleSplit(n_splits = 10, test_size=0.2, random_state=100)\n",
    "\n",
    "from sklearn.pipeline import Pipeline, make_pipeline\n",
    "\n",
    "pipeline = make_pipeline(\n",
    "    PolynomialFeatures(degree=2, include_bias=False), \n",
    "    LogisticRegression(n_jobs=-1)).fit(X_train, y_train)\n",
    "\n",
    "scores = cross_val_score(pipeline, X_train, y_train,\n",
    "                         scoring=\"accuracy\", cv=cv)\n",
    "\n",
    "print('Obtained {} positive Accuracy scores'.format(len(scores[scores > 0.0])))\n",
    "print('Best CV Accuracy: {:.2f}'.format(max(scores)))\n",
    "print('Avg. CV Accuracy: {:.2f} +/- {:.02}'.format(\n",
    "    np.mean(scores[scores > 0.0]),\n",
    "    np.std(scores[scores > 0.0])))\n",
    "print('Accuracy in hold-out dataset: {:.2f}'.format(\n",
    "    pipeline.score(X_test, y_test)))"
   ]
  },
  {
   "cell_type": "markdown",
   "metadata": {},
   "source": [
    "# 3. Feature Engineering"
   ]
  },
  {
   "cell_type": "markdown",
   "metadata": {},
   "source": [
    "## 3.1 Binning & One Hot Enconding “Satisfaction Level”"
   ]
  },
  {
   "cell_type": "code",
   "execution_count": 50,
   "metadata": {},
   "outputs": [
    {
     "name": "stdout",
     "output_type": "stream",
     "text": [
      "New Accuracy Score is: 0.88\n"
     ]
    }
   ],
   "source": [
    "df_new = df_X.copy()\n",
    "\n",
    "bins = [0, 0.12, 0.35, 0.46, 0.92,1.0]\n",
    "df_new['satisfaction_level_bin'] = pd.cut(df_new.satisfaction_level,bins)\n",
    "\n",
    "df_new = pd.concat([df_new, pd.get_dummies(df_new['satisfaction_level_bin'],prefix='Satisfaction', prefix_sep='_')], axis=1)\n",
    "df_new.drop('satisfaction_level', inplace=True, axis=1)\n",
    "df_new.drop('satisfaction_level_bin', inplace=True, axis=1)\n",
    "\n",
    "# Evaluate the accuracy of this new feature \n",
    "\n",
    "X_train, X_test, y_train, y_test = train_test_split(df_new, y, test_size=0.20, random_state=101)\n",
    "lr = LogisticRegression(penalty='l2',C=0.50)\n",
    "lr.fit(X_train,y_train)\n",
    "pred=lr.predict(X_test)\n",
    "score = accuracy_score(y_test, pred)\n",
    "print(\"New Accuracy Score is: {:.2f}\".format(score))\n"
   ]
  },
  {
   "cell_type": "markdown",
   "metadata": {},
   "source": [
    "## 3.2 Binning & One Hot Enconding “Last Evaluation”"
   ]
  },
  {
   "cell_type": "code",
   "execution_count": 51,
   "metadata": {},
   "outputs": [
    {
     "name": "stdout",
     "output_type": "stream",
     "text": [
      "New Accuracy Score is: 0.90\n"
     ]
    }
   ],
   "source": [
    "#Create different performance level base on percentile --> Cateforized by by low, below average, above average, high\n",
    "\n",
    "bins = [0, 0.48, 0.66, 0.9, 1.0]\n",
    "df_new['evaluation_bin'] = pd.cut(df_new.last_evaluation,bins);\n",
    "df_new = pd.concat([df_new, pd.get_dummies(df_new['evaluation_bin'],prefix='Evaluation', prefix_sep='_')], axis=1)\n",
    "\n",
    "df_new.drop('last_evaluation', inplace=True, axis=1)\n",
    "df_new.drop('evaluation_bin', inplace=True, axis=1)\n",
    "\n",
    "# Evaluate the accuracy of this new feature \n",
    "\n",
    "X_train, X_test, y_train, y_test = train_test_split(df_new, y, test_size=0.20, random_state=101)\n",
    "lr = LogisticRegression(penalty='l2',C=0.50)\n",
    "lr.fit(X_train,y_train)\n",
    "pred=lr.predict(X_test)\n",
    "score = accuracy_score(y_test, pred)\n",
    "print(\"New Accuracy Score is: {:.2f}\".format(score))\n"
   ]
  },
  {
   "cell_type": "markdown",
   "metadata": {},
   "source": [
    "## 3.4.1 One Hot Encoding “time_spend_company” "
   ]
  },
  {
   "cell_type": "code",
   "execution_count": 52,
   "metadata": {},
   "outputs": [
    {
     "name": "stdout",
     "output_type": "stream",
     "text": [
      "New Accuracy Score is: 0.939\n"
     ]
    }
   ],
   "source": [
    "#Make year of work as dummy variable assuming newly employed and long term employees are less likely to quit\n",
    "df_new = pd.concat([df_new, pd.get_dummies(df_new[\"time_spend_company\"],prefix='time', prefix_sep='_')], axis=1)\n",
    "\n",
    "df_new.drop('time_spend_company', inplace=True, axis=1)\n",
    "\n",
    "# Evaluate the accuracy of this new feature \n",
    "\n",
    "X_train, X_test, y_train, y_test = train_test_split(df_new, y, test_size=0.20, random_state=101)\n",
    "lr = LogisticRegression(penalty='l2',C=0.50)\n",
    "lr.fit(X_train,y_train)\n",
    "pred=lr.predict(X_test)\n",
    "score = accuracy_score(y_test, pred)\n",
    "print(\"New Accuracy Score is: {:.3f}\".format(score))"
   ]
  },
  {
   "cell_type": "markdown",
   "metadata": {},
   "source": [
    "## 3.4.2  One Hot Encoding “number_project” "
   ]
  },
  {
   "cell_type": "code",
   "execution_count": 53,
   "metadata": {},
   "outputs": [
    {
     "name": "stdout",
     "output_type": "stream",
     "text": [
      "New Accuracy Score is: 0.945\n"
     ]
    }
   ],
   "source": [
    "\n",
    "#Make number of project as dummy variable assuming people with less project is more likely to quit due to the lack \n",
    "#of motivation. Similar to people with high project due to the stress level. \n",
    "df_new = pd.concat([df_new, pd.get_dummies(df_new[\"number_project\"],prefix='#project', prefix_sep='_')], axis=1)\n",
    "df_new.drop('number_project', inplace=True, axis=1)\n",
    "\n",
    "# Evaluate the accuracy of this new feature \n",
    "X_train, X_test, y_train, y_test = train_test_split(df_new, y, test_size=0.20, random_state=101)\n",
    "lr = LogisticRegression(penalty='l2',C=0.50)\n",
    "lr.fit(X_train,y_train)\n",
    "pred=lr.predict(X_test)\n",
    "score = accuracy_score(y_test, pred)\n",
    "print(\"New Accuracy Score is: {:.3f}\".format(score))"
   ]
  },
  {
   "cell_type": "markdown",
   "metadata": {},
   "source": [
    "## 3.5 Binning & One Hot Enconding “Monthly_hours”"
   ]
  },
  {
   "cell_type": "code",
   "execution_count": 54,
   "metadata": {},
   "outputs": [
    {
     "name": "stdout",
     "output_type": "stream",
     "text": [
      "New Accuracy Score is: 0.947\n"
     ]
    }
   ],
   "source": [
    "bins = [0, 131, 165, 178, 179, 259, 287]\n",
    "df_new['average_montly_hours_bin'] = pd.cut(df_new.average_montly_hours,bins)\n",
    "\n",
    "df_new = pd.concat([df_new, pd.get_dummies(df_new['average_montly_hours_bin'],prefix='am', prefix_sep='_')], axis=1)\n",
    "df_new.drop('average_montly_hours_bin', inplace=True, axis=1)\n",
    "df_new.drop('average_montly_hours', inplace=True, axis=1)\n",
    "\n",
    "X_train, X_test, y_train, y_test = train_test_split(df_new, y, test_size=0.20, random_state=101)\n",
    "lr = LogisticRegression(penalty='l2',C=0.50)\n",
    "lr.fit(X_train,y_train)\n",
    "pred=lr.predict(X_test)\n",
    "score = accuracy_score(y_test, pred)\n",
    "print(\"New Accuracy Score is: {:.3f}\".format(score))"
   ]
  },
  {
   "cell_type": "markdown",
   "metadata": {},
   "source": [
    "### Correlation Analysis"
   ]
  },
  {
   "cell_type": "code",
   "execution_count": 55,
   "metadata": {},
   "outputs": [
    {
     "data": {
      "text/plain": [
       "<matplotlib.axes._subplots.AxesSubplot at 0x1c29986a20>"
      ]
     },
     "execution_count": 55,
     "metadata": {},
     "output_type": "execute_result"
    },
    {
     "data": {
      "image/png": "[encoded data removed]",
      "text/plain": [
       "<Figure size 1440x720 with 2 Axes>"
      ]
     },
     "metadata": {
      "needs_background": "light"
     },
     "output_type": "display_data"
    }
   ],
   "source": [
    "plt.figure(figsize = (20,10))\n",
    "sns.heatmap(df_new.corr())"
   ]
  },
  {
   "cell_type": "code",
   "execution_count": 56,
   "metadata": {},
   "outputs": [
    {
     "name": "stdout",
     "output_type": "stream",
     "text": [
      "              precision    recall  f1-score   support\n",
      "\n",
      "           0       0.96      0.97      0.96      2262\n",
      "           1       0.90      0.89      0.89       738\n",
      "\n",
      "   micro avg       0.95      0.95      0.95      3000\n",
      "   macro avg       0.93      0.93      0.93      3000\n",
      "weighted avg       0.95      0.95      0.95      3000\n",
      "\n"
     ]
    }
   ],
   "source": [
    "\n",
    "X_train, X_test, y_train, y_test = train_test_split(df_new, y, test_size=0.20, random_state=101)\n",
    "\n",
    "lr = LogisticRegression(penalty='l2',C=0.50)\n",
    "lr.fit(X_train,y_train)\n",
    "pred=lr.predict(X_test)\n",
    "\n",
    "\n",
    "print(classification_report(y_test, pred))"
   ]
  },
  {
   "cell_type": "markdown",
   "metadata": {},
   "source": [
    "## Cross Validate New Model"
   ]
  },
  {
   "cell_type": "code",
   "execution_count": 57,
   "metadata": {},
   "outputs": [
    {
     "name": "stdout",
     "output_type": "stream",
     "text": [
      "Obtained 10 positive Accurary scores\n",
      "Best Validation Accuracy: 0.95\n",
      "Avg. Validation Accuracy: 0.95\n"
     ]
    },
    {
     "data": {
      "image/png": "[encoded data removed]",
      "text/plain": [
       "<Figure size 432x288 with 1 Axes>"
      ]
     },
     "metadata": {
      "needs_background": "light"
     },
     "output_type": "display_data"
    }
   ],
   "source": [
    "# Test the new model using cross validation\n",
    "\n",
    "X_train, X_test, y_train, y_test = train_test_split(df_new, y, test_size=0.20, random_state=100)\n",
    "\n",
    "cv = ShuffleSplit(n_splits = 10, test_size=0.2, random_state=100)\n",
    "\n",
    "scores = cross_val_score(LogisticRegression(), X_train, y_train, cv=cv)\n",
    "\n",
    "print('Obtained {} positive Accurary scores'.format(len(scores[scores > 0.0])))\n",
    "print('Best Validation Accuracy: {:.2f}'.format(max(scores)))\n",
    "print('Avg. Validation Accuracy: {:.2f}'.format(np.mean(scores[scores > 0.0])))\n",
    "\n",
    "sns.distplot(scores[scores > 0.0], hist = False, kde = True, \n",
    "             kde_kws = {'shade': True, 'linewidth': 3});\n",
    "plt.title('Distribution of Accuracy scores')\n",
    "plt.show();"
   ]
  },
  {
   "cell_type": "markdown",
   "metadata": {},
   "source": [
    "## Evaluate New Model with Polynomial Features "
   ]
  },
  {
   "cell_type": "code",
   "execution_count": 67,
   "metadata": {},
   "outputs": [
    {
     "name": "stdout",
     "output_type": "stream",
     "text": [
      "Accuracy from entire-dataset estimator: 0.98\n",
      "Best estimator Accuracy score: 0.98\n"
     ]
    }
   ],
   "source": [
    "## Test model taking into account Polynomial Features\n",
    "X_train, X_test, y_train, y_test = train_test_split(df_new, y, test_size=0.20, random_state=100)\n",
    "\n",
    "cv = ShuffleSplit(n_splits = 10, test_size=0.2, random_state=100)\n",
    "\n",
    "pipeline = Pipeline([\n",
    "    ('polynomials', PolynomialFeatures(degree=2, include_bias=False)), \n",
    "    ('logistic_regression', LogisticRegression(max_iter = 10000, n_jobs=-1))])\n",
    "pipeline.fit(X_train, y_train)\n",
    "training_score = pipeline.score(X_test, y_test)\n",
    "print('Accuracy from entire-dataset estimator: {:.2f}'.format(training_score))\n",
    "\n",
    "# Obtain scores and estimators from different splits and use the best one.\n",
    "scores = cross_validate(pipeline, \n",
    "                        X_train, y_train,\n",
    "                        scoring=['accuracy'], \n",
    "                        cv=cv,\n",
    "                        return_estimator=True)\n",
    "split_scores = [scores['estimator'][i].score(X_test, y_test) \n",
    "                for i in range(len(scores))]\n",
    "index_best = split_scores.index(max(split_scores))\n",
    "print('Best estimator Accuracy score: {:.2f}'.format(split_scores[index_best]))\n",
    "\n",
    "\n",
    "## There is high risk of overfitting "
   ]
  },
  {
   "cell_type": "markdown",
   "metadata": {},
   "source": [
    "## Dimensionality Reduction with PCA "
   ]
  },
  {
   "cell_type": "code",
   "execution_count": 59,
   "metadata": {},
   "outputs": [
    {
     "data": {
      "text/plain": [
       "PCA(copy=True, iterated_power='auto', n_components=2, random_state=None,\n",
       "  svd_solver='auto', tol=0.0, whiten=False)"
      ]
     },
     "execution_count": 59,
     "metadata": {},
     "output_type": "execute_result"
    }
   ],
   "source": [
    "from sklearn.preprocessing import StandardScaler\n",
    "\n",
    "df_PCA= StandardScaler().fit_transform(df_new)\n",
    "\n",
    "X_train, X_test, y_train, y_test = train_test_split(df_PCA, y, test_size = 0.20, random_state=100)\n",
    "\n",
    "from sklearn.decomposition import PCA\n",
    "\n",
    "pca = PCA(n_components = 2)\n",
    "pca.fit(X_train)"
   ]
  },
  {
   "cell_type": "code",
   "execution_count": 66,
   "metadata": {},
   "outputs": [
    {
     "name": "stdout",
     "output_type": "stream",
     "text": [
      "Accuracy Score is: 0.97\n"
     ]
    }
   ],
   "source": [
    "#Dimensionality Reduction\n",
    "\n",
    "pca_new = pd.DataFrame(pca.components_.T, columns=['PC' + str(i) for i in range(1, 3) ], index=df_new.columns)\n",
    "pca_new= pca_new.abs()\n",
    "pca_new['lin_influ'] = pca_new.sum(axis=1)\n",
    "\n",
    "X_train, X_test, y_train, y_test = train_test_split(PolynomialFeatures(degree=2, include_bias=False).fit_transform(df_new[pca_new.lin_influ.nlargest(25).index].as_matrix()), \n",
    "                                                    y, test_size=0.30, random_state=101)\n",
    "lr = LogisticRegression(penalty='l2',C=0.6)\n",
    "lr.fit(X_train,y_train)\n",
    "pred=lr.predict(X_test)\n",
    "\n",
    "score = accuracy_score(y_test, pred)\n",
    "print(\"Accuracy Score is: {:.2f}\".format(score))\n",
    "\n"
   ]
  },
  {
   "cell_type": "markdown",
   "metadata": {},
   "source": [
    "## Outlier Test"
   ]
  },
  {
   "cell_type": "code",
   "execution_count": 65,
   "metadata": {},
   "outputs": [
    {
     "data": {
      "text/plain": [
       "[]"
      ]
     },
     "execution_count": 65,
     "metadata": {},
     "output_type": "execute_result"
    }
   ],
   "source": [
    "def remove_outliers(df):\n",
    "    ols = sm.OLS(endog = y, exog = df_new)\n",
    "    fit = ols.fit()\n",
    "    test = fit.outlier_test()['bonf(p)']\n",
    "    outliers = list(test[test<1e-3].index) \n",
    "    return outliers\n",
    "\n",
    "remove_outliers(df_new)"
   ]
  },
  {
   "cell_type": "code",
   "execution_count": null,
   "metadata": {},
   "outputs": [],
   "source": []
  }
 ],
 "metadata": {
  "kernelspec": {
   "display_name": "Python 3",
   "language": "python",
   "name": "python3"
  },
  "language_info": {
   "codemirror_mode": {
    "name": "ipython",
    "version": 3
   },
   "file_extension": ".py",
   "mimetype": "text/x-python",
   "name": "python",
   "nbconvert_exporter": "python",
   "pygments_lexer": "ipython3",
   "version": "3.6.8"
  }
 },
 "nbformat": 4,
 "nbformat_minor": 2
}
